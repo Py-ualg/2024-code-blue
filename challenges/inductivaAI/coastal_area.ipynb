{
 "cells": [
  {
   "cell_type": "markdown",
   "metadata": {},
   "source": [
    "# Coastal Area simulation using SWASH with the Inductiva API\n",
    "\n",
    "The Inductiva API provides an array of open source numerical simulators ready to use in the cloud, all from within Python code.\n",
    "A popular simulator related to Coastal Dynamics is SWASH, which we'll use to demonstrate a coastal area simulation using the Inductiva API.\n",
    "This simulation scenario consists of waves propagating in a coastal area represented by a bathymetric profile (i.e., the map of depths of the sea bottom as a function of spatial coordinates x, y). Waves are injected into the domain from one of the boundaries of the simulation with a given amplitude and period.\n",
    "\n",
    "The notebook is organized as follows: first, we'll take a look at the input files required to run the simulation. We'll then run the simulation in Cloud machines, and then take a look at the output files.\n",
    "\n",
    "\n",
    "### Tips for running the notebook\n",
    "\n",
    "For this notebook, you'll need to have a few Python packages installed, which you can do \n",
    "\n",
    "```pip install inductiva scipy numpy matplotlib```\n",
    "\n",
    "If you're on Google Colab, run the the following cells to install the required dependencies and download the necessary files."
   ]
  },
  {
   "cell_type": "code",
   "execution_count": null,
   "metadata": {},
   "outputs": [],
   "source": [
    "!pip install inductiva scipy numpy matplotlib\n",
    "!wget https://storage.googleapis.com/inductiva-api-demo-files/code-blue-hackathon.zip\n",
    "!unzip code-blue-hackathon.zip"
   ]
  },
  {
   "cell_type": "markdown",
   "metadata": {},
   "source": [
    "## 1. Prepare the simulation inputs\n",
    "\n",
    "For this simulation, we'll require two input files:\n",
    "- The [bathymetry](assets/coastal_area_simulation_demo/bathymetry.bot), which is a simple text file with a matrix of depths (in meters).\n",
    "- The [simulator's configuration file](assets/coastal_area_simulation_demo/input.sws), which specifies other parameters (such as wave amplitude, period, the computational grid, among others). Lines starting with `$` are comments giving notes on some of the input values.\n",
    "\n",
    "The following code block loads the provided bathymetry file into a numpy array, and inspects some information about it.\n"
   ]
  },
  {
   "cell_type": "code",
   "execution_count": null,
   "metadata": {},
   "outputs": [],
   "source": [
    "import numpy as np\n",
    "\n",
    "# The bathymetry data for a SWASH simulation is stored in a simple text file\n",
    "# with a matrix of depths in meters. The first and second dimensions of the\n",
    "# matrix correspond to the x and y coordinates of the grid points, respectively.\n",
    "# Let's load the data into a numpy array and see some information about it.\n",
    "bathymetry = np.loadtxt('assets/coastal_area_simulation_demo/bathymetry.bot')\n",
    "\n",
    "print('Shape of the grid:', bathymetry.shape)\n",
    "print('Max depth (m):', np.max(bathymetry))\n",
    "print('Max height (m):', - np.min(bathymetry))"
   ]
  },
  {
   "cell_type": "markdown",
   "metadata": {},
   "source": [
    "You can see the bathymetry grid has 199x169 points. This specific bathymetry was sampled with a resolution of 5m x 5m (*i.e.*, each grid point is separated by 5m in each direction to adjacent points).\n",
    "Let's plot the bathymetry using the `matplotlib` library."
   ]
  },
  {
   "cell_type": "code",
   "execution_count": null,
   "metadata": {},
   "outputs": [],
   "source": [
    "import matplotlib.pyplot as plt\n",
    "\n",
    "def visualize_bathymetry(bathymetry, x_res, y_res):\n",
    "    # Specify the size of the image to match the size of the grid in meters\n",
    "    extent = (0, x_res*bathymetry.shape[0], 0, y_res*bathymetry.shape[1])\n",
    "\n",
    "    fig = plt.figure()\n",
    "    ax = fig.add_subplot()\n",
    "    im = ax.imshow(\n",
    "        -1 * bathymetry.transpose(),\n",
    "        cmap='coolwarm',\n",
    "        origin='lower',\n",
    "        extent=extent,\n",
    "    )\n",
    "    ax.set(aspect='equal', xlabel='$x$ [m]', ylabel='$y$ [m]')\n",
    "\n",
    "    fig.colorbar(im, ax=ax, label=\"Height [m]\")\n",
    "\n",
    "# The provided bathymetry is sampled at 5m x 5m resolution\n",
    "visualize_bathymetry(bathymetry, x_res=5, y_res=5)"
   ]
  },
  {
   "cell_type": "markdown",
   "metadata": {},
   "source": [
    "## 2. Run the simulation\n",
    "\n",
    "Now that we have input files for the simulation, let's run the actual simulation.\n",
    "We'll create a virtual machine in the Cloud, run the simulation in that machine, and download the outputs of the simulation, all with a few simple lines of Python code.\n",
    "\n",
    "You should have already registered an account in the Inductiva API. If not, you can do it [here](https://console.inductiva.ai/). Afterwards, go to the `welcome` tab where you'll find an API Key. \n",
    "You should copy it and paste in the following cell, replacing `<YOUR_API_KEY_HERE>`.\n",
    "\n",
    "We'll then import the `inductiva` package. Note that you must run the API Key cell before importing the `inductiva` package."
   ]
  },
  {
   "cell_type": "code",
   "execution_count": null,
   "metadata": {},
   "outputs": [],
   "source": [
    "%env INDUCTIVA_API_KEY=<YOUR_API_KEY_HERE>"
   ]
  },
  {
   "cell_type": "code",
   "execution_count": null,
   "metadata": {},
   "outputs": [],
   "source": [
    "import inductiva"
   ]
  },
  {
   "cell_type": "markdown",
   "metadata": {},
   "source": [
    "To run the simulation, we'll first need to create a machine in the Cloud that's dedicated for you. \n",
    "Sounds complicated, but with the Inductiva API, you don't need Cloud expertise to leverage the Cloud's computational power for your simulation workloads.\n",
    "Machines in the Inductiva API are managed via the \"Machine Group\" concept.\n",
    "By instantiating an object of the class `MachineGroup`, you're requesting a machine group with a given configuration. In this case, we'll\n",
    "request a machine group with 1 machine of type `e2-standard-4`. This is a machine type provided by Google Cloud which has 4 vCPUs. While this machine is fairly weak, it is good enough for this simple demo simulation. To run larger simulations, you could launch a machine group with hundreds of cores just as easily.\n",
    "By calling the method `start()` of the `machine_group` object, we are requesting the machines to actually start running. \n",
    "After the machines start, they'll be ready to run simulations."
   ]
  },
  {
   "cell_type": "code",
   "execution_count": null,
   "metadata": {},
   "outputs": [],
   "source": [
    "machine_group = inductiva.resources.MachineGroup(machine_type=\"e2-standard-4\", num_machines=1)\n",
    "machine_group.start()"
   ]
  },
  {
   "cell_type": "markdown",
   "metadata": {},
   "source": [
    "Now that we have a machine ready, we can submit our SWASH simulation.\n",
    "For that, let's create a `swash` object and call it's run method. There are three arguments to specify:\n",
    "- `input_dir`: the path to the directory in your local computer which has the simulator input files.\n",
    "- `sim_config_filename`: the filename of the simulator configuration file. This file must exist inside the `input_dir`.\n",
    "- `on`: this machine group where the simulation will run. "
   ]
  },
  {
   "cell_type": "code",
   "execution_count": null,
   "metadata": {},
   "outputs": [],
   "source": [
    "swash = inductiva.simulators.SWASH()\n",
    "\n",
    "task = swash.run(\n",
    "    input_dir=\"assets/coastal_area_simulation_demo\",\n",
    "    sim_config_filename=\"input.sws\",\n",
    "    on=machine_group,\n",
    ")"
   ]
  },
  {
   "cell_type": "markdown",
   "metadata": {},
   "source": [
    "The `run` method returns an object which represents the newly submitted simulation task. We can call the `wait` method to wait until the simulation is complete. It should take only a few seconds."
   ]
  },
  {
   "cell_type": "code",
   "execution_count": null,
   "metadata": {},
   "outputs": [],
   "source": [
    "task.wait()"
   ]
  },
  {
   "cell_type": "markdown",
   "metadata": {},
   "source": [
    "Now that the simulation is over, we download the output files generated during the simulation.\n",
    "Besides the output files generated by the simulator, you'll also find the logs of the simulator command (in the `stdout.txt` and `stderr.txt` files)."
   ]
  },
  {
   "cell_type": "code",
   "execution_count": null,
   "metadata": {},
   "outputs": [],
   "source": [
    "output_path = task.download_outputs()"
   ]
  },
  {
   "cell_type": "markdown",
   "metadata": {},
   "source": [
    "Let's take a look at the downloaded files:"
   ]
  },
  {
   "cell_type": "code",
   "execution_count": null,
   "metadata": {},
   "outputs": [],
   "source": [
    "!ls {output_path}"
   ]
  },
  {
   "cell_type": "markdown",
   "metadata": {},
   "source": [
    "Now that we've successfuly run the simulation and no longer need the machine group, we can terminate it, by running the following method."
   ]
  },
  {
   "cell_type": "code",
   "execution_count": null,
   "metadata": {},
   "outputs": [],
   "source": [
    "machine_group.terminate()"
   ]
  },
  {
   "cell_type": "markdown",
   "metadata": {},
   "source": [
    "## 3. Analyse the outputs"
   ]
  },
  {
   "cell_type": "markdown",
   "metadata": {},
   "source": [
    "Now that we have successfully downloaded the output files of the simulation, we can analyse some of the results.\n",
    "The resulting physical properties are stored in the files with `.mat` extension (binary MATLAB files).\n",
    "Let's load the `water_level.mat` file with `scipy`."
   ]
  },
  {
   "cell_type": "code",
   "execution_count": null,
   "metadata": {},
   "outputs": [],
   "source": [
    "import scipy\n",
    "import scipy.io\n",
    "\n",
    "water_level_dict = scipy.io.loadmat(f\"{output_path}/water_level.mat\")\n",
    "print(water_level_dict.keys())"
   ]
  },
  {
   "cell_type": "markdown",
   "metadata": {},
   "source": [
    "The `water_level.mat` file includes the water level (in meters) for each simulation timestep.\n",
    "The simulation timestep is specified in the suffix of the format `hhmmss_ms` in the keys of the dictionary printed above.\n",
    "Let's load all the water level grids and corresponding timesteps into lists."
   ]
  },
  {
   "cell_type": "code",
   "execution_count": 12,
   "metadata": {},
   "outputs": [],
   "source": [
    "timesteps = []\n",
    "water_level_data = []\n",
    "\n",
    "for key, data in water_level_dict.items():\n",
    "\n",
    "    if not key.startswith(\"Watlev\"):\n",
    "        continue\n",
    "\n",
    "    time_ms = \"\".join(key.split(\"_\")[1:])\n",
    "\n",
    "    # Convert time to seconds\n",
    "    time_s = float(time_ms[:2]) * 3600. + \\\n",
    "        float(time_ms[2:4]) * 60. + \\\n",
    "        float(time_ms[4:6]) +  \\\n",
    "        float(time_ms[6:]) / 1000.\n",
    "\n",
    "    timesteps.append(time_s)\n",
    "    water_level_data.append(data.transpose())\n"
   ]
  },
  {
   "cell_type": "markdown",
   "metadata": {},
   "source": [
    "We can now, for instance, plot the water level over time in a given point of the bathymetry grid."
   ]
  },
  {
   "cell_type": "code",
   "execution_count": null,
   "metadata": {},
   "outputs": [],
   "source": [
    "def plot_water_level_over_time(water_level_data, timesteps, x, y):\n",
    "    water_level_xy = [mat[x, y] for mat in water_level_data]\n",
    "\n",
    "    plt.figure(figsize=(10, 6))\n",
    "    plt.plot(timesteps, water_level_xy, label=f'Water Level at {(x, y)}')\n",
    "    plt.xlabel('Time (s)')\n",
    "    plt.ylabel('Water Level (m)')\n",
    "    plt.title(f'Water Level Over Time at {(x, y)}')\n",
    "    plt.legend()\n",
    "    plt.grid(True)\n",
    "    plt.show()\n",
    "\n",
    "plot_water_level_over_time(water_level_data, timesteps, 100, 10)"
   ]
  }
 ],
 "metadata": {
  "kernelspec": {
   "display_name": "inductiva",
   "language": "python",
   "name": "python3"
  },
  "language_info": {
   "codemirror_mode": {
    "name": "ipython",
    "version": 3
   },
   "file_extension": ".py",
   "mimetype": "text/x-python",
   "name": "python",
   "nbconvert_exporter": "python",
   "pygments_lexer": "ipython3",
   "version": "3.11.10"
  }
 },
 "nbformat": 4,
 "nbformat_minor": 2
}
