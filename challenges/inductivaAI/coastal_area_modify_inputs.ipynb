{
 "cells": [
  {
   "cell_type": "markdown",
   "metadata": {},
   "source": [
    "# Configure SWASH simulations using the Inductiva API\n",
    "\n",
    "Now that we've successfuly run a SWASH simulation, let's use the Inductiva API's templating tools to easily programatically configure simulation parameters, and run several simulations in parallel for different input parameters.\n",
    "Let's start by configuring your API Key and importing the `inductiva` package. We'll also define a util function that will be useful later on.\n",
    "Note that you must run the API Key cell before the cell that imports the `inductiva` package.\n",
    "\n",
    "### Tips for running the notebook\n",
    "\n",
    "For this notebook, you'll need to have a few Python packages installed, which you can do with the following command:\n",
    "\n",
    "```pip install inductiva scipy numpy matplotlib```\n",
    "\n",
    "If you're on Google Colab, run the the following cells to install the required dependencies and download the necessary files."
   ]
  },
  {
   "cell_type": "code",
   "execution_count": null,
   "metadata": {},
   "outputs": [],
   "source": [
    "!pip install inductiva scipy numpy matplotlib\n",
    "!curl https://storage.googleapis.com/inductiva-api-demo-files/code-blue-hackathon.zip\n",
    "!unzip code-blue-hackathon.zip"
   ]
  },
  {
   "cell_type": "code",
   "execution_count": null,
   "metadata": {},
   "outputs": [],
   "source": [
    "%env INDUCTIVA_API_KEY=<YOUR_API_KEY_HERE>"
   ]
  },
  {
   "cell_type": "code",
   "execution_count": null,
   "metadata": {},
   "outputs": [],
   "source": [
    "import inductiva\n",
    "\n",
    "def seconds_to_swash_simulation_time_str(time_s: float):\n",
    "    \"\"\"Util function to convert seconds (float) to a string in the format of the swash simulation time.\n",
    "\n",
    "    SWASH expects the time in the format of \"hhmmss.sss\", where:\n",
    "    - hh is the hour\n",
    "    - mm is the minute\n",
    "    - ss is the second\n",
    "    - sss is the millisecond\n",
    "    \"\"\"\n",
    "    m, s = divmod(time_s, 60)\n",
    "    h, m = divmod(m, 60)\n",
    "    _, ms = divmod(s, 1)\n",
    "\n",
    "    return (f\"{int(h):02d}\"\n",
    "            f\"{int(m):02d}\"\n",
    "            f\"{int(s):02d}.\"\n",
    "            f\"{int(ms*1000):03d}\")"
   ]
  },
  {
   "cell_type": "markdown",
   "metadata": {},
   "source": [
    "### Templating Manager\n",
    "\n",
    "The Inductiva API integrates a powerful [templating manager](https://tutorials.inductiva.ai/intro_to_api/templating.html) that can be used to programatically change simulation input files. When writing a configuration file, use the notation `{{ parameter_value }}` in place of a parameter that you would like to easily configure. Then, you can use the template manager from Inductiva to create files with specific values of `parameter_value`.\n",
    "\n",
    "Let's parametrize the coastal area simulation using the templating manager.\n",
    "Take a look at the template file [input.sws.jinja](assets/coastal_area_simulation_template/input.sws.jinja), which has the template variables `wave_length_m`, `wave_period_s`, and `simulation_time`. The template file, along with the other simulation files (the bathymetry), are place in the `assets/coastal_area_simulation_template` directory.\n",
    "\n",
    "We can use the `inductiva.TemplateManager.render_dir` method to duplicate the \"template directory\" with the template parameters replaced by specific values. This allow you to seamlessly launch several simulations and experiment with different configurations.\n",
    "The `render_dir` method receives as arguments:\n",
    "- `source_dir`: the path to the template directory\n",
    "- `tartet_dir`: the path to the directory that will be created by replacing the template variables in the template files\n",
    "- the template variables expected by your configuration files. In this case, `wave_length_m`, `wave_period_s`, and `simulation_time`.\n",
    "\n",
    "Note that SWASH expects the simulation time in a \"weird\" format, so we added a simple util function (`seconds_to_swash_simulation_time_str`) to convert a number of seconds to the expected string.\n",
    "\n",
    "Let's create input files for simulating 200s of a wave of length 10m (SWASH uses peak-to-peak amplitude) and a period of 10s."
   ]
  },
  {
   "cell_type": "code",
   "execution_count": 16,
   "metadata": {},
   "outputs": [],
   "source": [
    "template_dir = \"assets/coastal_area_simulation_template\"\n",
    "input_dir = \"my_parametrized_inputs\"\n",
    "\n",
    "inductiva.TemplateManager.render_dir(\n",
    "    source_dir=template_dir,\n",
    "    target_dir=input_dir,\n",
    "    overwrite=True,\n",
    "    wave_length_m=10,\n",
    "    wave_period_s=10,\n",
    "    simulation_time=seconds_to_swash_simulation_time_str(200),\n",
    ")"
   ]
  },
  {
   "cell_type": "markdown",
   "metadata": {},
   "source": [
    "Now tha we have an input directory with the complete configuration files, we can run a simulation as usual."
   ]
  },
  {
   "cell_type": "code",
   "execution_count": null,
   "metadata": {},
   "outputs": [],
   "source": [
    "machine_group = inductiva.resources.MachineGroup(machine_type=\"e2-standard-4\", num_machines=1)\n",
    "machine_group.start()"
   ]
  },
  {
   "cell_type": "code",
   "execution_count": null,
   "metadata": {},
   "outputs": [],
   "source": [
    "swash = inductiva.simulators.SWASH()\n",
    "\n",
    "task = swash.run(\n",
    "    input_dir=input_dir,\n",
    "    sim_config_filename=\"input.sws\",\n",
    "    on=machine_group,\n",
    ")\n",
    "\n",
    "task.wait()\n",
    "\n",
    "output_path = task.download_outputs()"
   ]
  },
  {
   "cell_type": "code",
   "execution_count": null,
   "metadata": {},
   "outputs": [],
   "source": [
    "machine_group.terminate()"
   ]
  },
  {
   "cell_type": "markdown",
   "metadata": {},
   "source": [
    "Let's look at the water level in the same point as in the previous notebook.\n",
    "\n",
    "You can see that the water level and the time reflect the changes made to the input parameters."
   ]
  },
  {
   "cell_type": "code",
   "execution_count": null,
   "metadata": {},
   "outputs": [],
   "source": [
    "import scipy\n",
    "import scipy.io\n",
    "import matplotlib.pyplot as plt\n",
    "\n",
    "water_level_dict = scipy.io.loadmat(f\"{output_path}/water_level.mat\")\n",
    "\n",
    "timesteps = []\n",
    "water_level_data = []\n",
    "\n",
    "for key, data in water_level_dict.items():\n",
    "\n",
    "    if not key.startswith(\"Watlev\"):\n",
    "        continue\n",
    "\n",
    "    time_ms = \"\".join(key.split(\"_\")[1:])\n",
    "\n",
    "    # Convert time to seconds\n",
    "    time_s = float(time_ms[:2]) * 3600. + \\\n",
    "        float(time_ms[2:4]) * 60. + \\\n",
    "        float(time_ms[4:6]) +  \\\n",
    "        float(time_ms[6:]) / 1000.\n",
    "\n",
    "    timesteps.append(time_s)\n",
    "    water_level_data.append(data.transpose())\n",
    "\n",
    "def plot_water_level_over_time(water_level_data, timesteps, x, y):\n",
    "    water_level_xy = [mat[x, y] for mat in water_level_data]\n",
    "\n",
    "    plt.figure(figsize=(10, 6))\n",
    "    plt.plot(timesteps, water_level_xy, label=f'Water Level at {(x, y)}')\n",
    "    plt.xlabel('Time (s)')\n",
    "    plt.ylabel('Water Level (m)')\n",
    "    plt.title(f'Water Level Over Time at {(x, y)}')\n",
    "    plt.legend()\n",
    "    plt.grid(True)\n",
    "    plt.show()\n",
    "\n",
    "plot_water_level_over_time(water_level_data, timesteps, 100, 10)"
   ]
  }
 ],
 "metadata": {
  "kernelspec": {
   "display_name": "inductiva",
   "language": "python",
   "name": "python3"
  },
  "language_info": {
   "codemirror_mode": {
    "name": "ipython",
    "version": 3
   },
   "file_extension": ".py",
   "mimetype": "text/x-python",
   "name": "python",
   "nbconvert_exporter": "python",
   "pygments_lexer": "ipython3",
   "version": "3.11.10"
  }
 },
 "nbformat": 4,
 "nbformat_minor": 2
}
